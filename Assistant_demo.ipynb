{
 "cells": [
  {
   "cell_type": "markdown",
   "metadata": {},
   "source": [
    "# HW7\n",
    "### prompt: \n",
    "Complete the calculation from the class.\n",
    "Finite square well is given by the potential.\n",
    "\n",
    "$$\n",
    "V(x) =\n",
    "\\begin{cases} \n",
    "0 & x<-a\\\\\n",
    "-V_0 & -a<x<a\\\\\n",
    "0 & x>a\n",
    "\\end{cases}\n",
    "$$\n",
    "Can you explain the above in more detail?\n",
    "\n",
    "### Answer:\n",
    "This is a model potential well used in quantum mechanics. It has the following properties:\n",
    "\n",
    "For $x < -a$ and $x > a$, the potential is zero (flat, free particle region).\n",
    "For $-a < x < a$, the potential is a constant negative value $V_0$ (this is the \"well\" region).\n",
    "\n",
    "So overall you get a \"box\" shaped potential which traps a particle in the middle region. Solving the Schrodinger equation for this potential gives quantized energy levels, which is a classic result in intro QM courses.\n",
    "Hope this helps!\n",
    "### Prompt\n",
    "\n",
    "We are interested in scattering states $E > 0$. Assume the incident wave from $x = −INF$\n",
    "is given by $A e^{ikx}$. Introducing $k^2 = 2mE$\n",
    "\n",
    "\\begin{aligned}\n",
    "&\\psi(x)=A e^{i k x}+B e^{-i k x}, \\quad x<-a \\\\\n",
    "&\\psi(x)=C e^{i q x}+D e^{-i q x}, \\quad-a \\leq x \\leq a \\\\\n",
    "&\\psi(x)=F e^{i k x}, \\quad x>a\n",
    "\\end{aligned}\n",
    "\n",
    "a.)Write down the boundary conditions for x = a and x = −a (four equations as we\n",
    "did in class).\n",
    "\n",
    "What do I need to know for part a?\n",
    "### Answer\n",
    "For part (a), you simply need to enforce continuity of the wavefunction $\\psi(x)$ and its derivative $\\psi'(x)$ at the points $x = \\pm a$. This will give you 4 equations:\n",
    "\n",
    "$\\psi(-a^+) = \\psi(-a^-)$ (continuity at $x = -a$)\n",
    "$\\psi'(a^+) = \\psi'(a^-)$ (continuity of derivative at $x = a$)\n",
    "$\\psi(a^+) = \\psi(a^-)$ (continuity at $x = a$)\n",
    "$\\psi'(a^+) = \\psi'(a^-)$ (continuity of derivative at $x = a$)\n",
    "\n",
    "Here the $^+$ and $^-$ subscripts denote evaluating just to the right and just to the left of the point, respectively.\n",
    "Hope this helps!\n",
    "### Prompt\n",
    "\n",
    "Eliminate C,D coefficients and solve for B,F in terms of A. \n",
    "\n",
    "What does the question mean by eliminating coefficients C and D?\n",
    "### Answer\n",
    "\n",
    "This is asking you to use the 4 boundary conditions you found in part (a) to express the coefficients $C$ and $D$ in terms of $A,B,$ and $F$. This essentially \"eliminates\" $C$ and $D$ from the problem since you can rewrite the wavefunction entirely in terms of $A,B,$ and $F$.\n",
    "\n",
    " To do this, you would plug your expressions for $\\psi(x)$ into the 4 boundary conditions and solve the resulting 4 equations for $C$ and $D$ in terms of the other coefficients.\n",
    "That system of equations can be solved using matrix inversion. You obtain:\n",
    "\n",
    " $$ B = \\frac{q A \\sin(qa) - k F \\sin(ka)}{k-q} $$\n",
    "\n",
    " $$ F = \\frac{k A \\sin(qa) - q B \\sin(ka)}{k-q} $$\n"
   ]
  },
  {
   "cell_type": "code",
   "execution_count": 2,
   "metadata": {},
   "outputs": [],
   "source": [
    "from axioms_2 import expr\n",
    "\n",
    "\n",
    "ps1 = expr('A*e^(i*k*x)+B*e^(-i*k*x)')\n",
    "ps2 = expr('C*e^(i*k*x)+D*e^(-i*k*x)')\n",
    "ps3 = expr('F*e^(i*k*x)')\n",
    "\n"
   ]
  },
  {
   "cell_type": "code",
   "execution_count": 3,
   "metadata": {},
   "outputs": [
    {
     "name": "stdout",
     "output_type": "stream",
     "text": [
      "  _______+_           \n",
      " /         \\          \n",
      " *_        *_         \n",
      "/  \\      /  \\        \n",
      "A  ^_     B  ^__      \n",
      "  /  \\      /   \\     \n",
      "  e  *_     e   *_    \n",
      "    /  \\       /  \\   \n",
      "    i  *      -1  *_  \n",
      "      / \\        /  \\ \n",
      "      k x        i  * \n",
      "                   / \\\n",
      "                   k x\n"
     ]
    }
   ],
   "source": []
  },
  {
   "cell_type": "code",
   "execution_count": null,
   "metadata": {},
   "outputs": [],
   "source": []
  }
 ],
 "metadata": {
  "kernelspec": {
   "display_name": "Python 3.9.1 ('base')",
   "language": "python",
   "name": "python3"
  },
  "language_info": {
   "codemirror_mode": {
    "name": "ipython",
    "version": 3
   },
   "file_extension": ".py",
   "mimetype": "text/x-python",
   "name": "python",
   "nbconvert_exporter": "python",
   "pygments_lexer": "ipython3",
   "version": "3.9.1"
  },
  "orig_nbformat": 4,
  "vscode": {
   "interpreter": {
    "hash": "9e383cad116e0f87aab72c7dfdfeaf83eefebbf351605273931a210b923ad1fa"
   }
  }
 },
 "nbformat": 4,
 "nbformat_minor": 2
}
