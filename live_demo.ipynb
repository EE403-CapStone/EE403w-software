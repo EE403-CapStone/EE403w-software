{
 "cells": [
  {
   "cell_type": "markdown",
   "metadata": {},
   "source": [
    "# Live Demonstration\n",
    "\n",
    "Using axioms to solve a Calculus problem"
   ]
  },
  {
   "cell_type": "code",
   "execution_count": 1,
   "metadata": {},
   "outputs": [
    {
     "name": "stdout",
     "output_type": "stream",
     "text": [
      "\n",
      "\n",
      "Hello! My name is Mathilda and it's nice to meet you.\n"
     ]
    }
   ],
   "source": [
    "from axioms_2 import expr\n",
    "from assistant import *\n",
    "mathilda = convo()\n",
    "\n",
    "print(test_prompt())"
   ]
  },
  {
   "cell_type": "markdown",
   "metadata": {},
   "source": [
    "![Sample problem](sample_promblem.png)"
   ]
  },
  {
   "cell_type": "code",
   "execution_count": 2,
   "metadata": {},
   "outputs": [
    {
     "name": "stdout",
     "output_type": "stream",
     "text": [
      "Mathilda:\n",
      "\n",
      "Acceleration can be found using the derivative of velocity with respect to time. This is expressed as:\n",
      "\n",
      "a(t) = dv/dt\n"
     ]
    }
   ],
   "source": [
    "# part a.)\n",
    "\n",
    "question = \"How can I solve for accelleration given velocity as a function of time v(t)?\"\n",
    "response = mathilda.query(question)\n",
    "mathilda.add_context(response,question)\n",
    "print(response)"
   ]
  },
  {
   "cell_type": "markdown",
   "metadata": {},
   "source": [
    "Using Mathilda's response to generate an write some math."
   ]
  },
  {
   "cell_type": "code",
   "execution_count": 3,
   "metadata": {},
   "outputs": [
    {
     "data": {
      "text/plain": [
       "-2.1181950094251003"
      ]
     },
     "execution_count": 3,
     "metadata": {},
     "output_type": "execute_result"
    }
   ],
   "source": [
    "v = expr('(10*sin(.4*t^2)) / (t^2-t+3)')\n",
    "a = v.pD('t')\n",
    "a.evaluate(val_dict={'t':3})"
   ]
  },
  {
   "cell_type": "code",
   "execution_count": 4,
   "metadata": {},
   "outputs": [
    {
     "name": "stdout",
     "output_type": "stream",
     "text": [
      "Mathilda:\n",
      "\n",
      "Part b is asking for the acceleration of a particle given its velocity as a function of time. To solve this, you will need to take the derivative of the velocity function with respect to time. This can be done using the chain rule, as follows:\n",
      "\n",
      "a(t) = dv/dt = d/dt(v(t)) = v'(t)\n",
      "\n",
      "Where v'(t) is the derivative of the velocity function with respect to time.\n"
     ]
    }
   ],
   "source": [
    "question = \"Can you explain a solution to part b?\"\n",
    "response = mathilda.query(question)\n",
    "mathilda.add_context(response,question)\n",
    "print(response)"
   ]
  }
 ],
 "metadata": {
  "kernelspec": {
   "display_name": "Python 3.9.5 ('EE300')",
   "language": "python",
   "name": "python3"
  },
  "language_info": {
   "codemirror_mode": {
    "name": "ipython",
    "version": 3
   },
   "file_extension": ".py",
   "mimetype": "text/x-python",
   "name": "python",
   "nbconvert_exporter": "python",
   "pygments_lexer": "ipython3",
   "version": "3.9.5"
  },
  "orig_nbformat": 4,
  "vscode": {
   "interpreter": {
    "hash": "42de30614110e837353cca085f11e984cf1ec86f99248b6b9e10f423825b15a5"
   }
  }
 },
 "nbformat": 4,
 "nbformat_minor": 2
}
