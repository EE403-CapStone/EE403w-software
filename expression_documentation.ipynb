{
 "cells": [
  {
   "cell_type": "markdown",
   "metadata": {},
   "source": [
    "# Expressions\n",
    "\n",
    "An expression is abstract data that represents a mathematical expression. Specifically a directed graph with nodes and unweighted edges. "
   ]
  },
  {
   "cell_type": "markdown",
   "metadata": {},
   "source": [
    "Nodes of the graph are of the class node() which is described as follows:\n",
    "\n",
    "```python\n",
    "class node:\n",
    "    def __init__(self,val,left:any= None,right:any = None):\n",
    "        self.val = val\n",
    "        self.right = right\n",
    "        self.left = left\n",
    "```"
   ]
  },
  {
   "cell_type": "markdown",
   "metadata": {},
   "source": [
    "- node.val: Takes on the values the following python data types, \n",
    "    ```python \n",
    "    [str, bool, int, complex]\n",
    "    ```\n",
    "- node.left/right: Either None or a node object. "
   ]
  },
  {
   "cell_type": "code",
   "execution_count": null,
   "metadata": {},
   "outputs": [],
   "source": []
  },
  {
   "cell_type": "markdown",
   "metadata": {},
   "source": [
    "Instantiating an expression object. The addition part of the quadratic equation\n",
    "\n",
    "```python\n",
    "\n",
    "from axioms_2 import *\n",
    "example_exp = exp('(-b+(b^2-4*a*c)^(1/2))/(2*a)')\n",
    "\n",
    "```\n",
    "\n",
    "How example_exp is stored in memory is described by the below figure \n",
    "\n",
    "Pemdos is understood and parts of the expression are grouped and placed into nodes. For example \n",
    "$$-b + \\sqrt{b^2 - 4*a*c}$$ \n",
    "\n",
    "For example the above expression is grouped into 3 parts; the operator '+' and the left and right values of the operation. The left and right parts of the expression themselves are nodes with the same structure. The branching of the expression terminates on None values which is not shown here. \n",
    "\n",
    "\n",
    "![expression_to_graph](expression2graph.png)\n"
   ]
  },
  {
   "cell_type": "code",
   "execution_count": null,
   "metadata": {},
   "outputs": [],
   "source": [
    "from axioms_2 import *\n",
    "\n",
    "quad = exp('(-b+(b^2-4*a*c)^(1/2))/(2*a)')\n",
    "quad.display()"
   ]
  },
  {
   "cell_type": "markdown",
   "metadata": {},
   "source": [
    "$$ x\\cdot e^{x}=2 $$"
   ]
  },
  {
   "cell_type": "code",
   "execution_count": null,
   "metadata": {},
   "outputs": [],
   "source": [
    "e = exp('e =(a+b*x)/c=')\n",
    "x = e.invert_branch('x')\n",
    "x"
   ]
  }
 ],
 "metadata": {
  "kernelspec": {
   "display_name": "Python 3.9.5 ('EE300')",
   "language": "python",
   "name": "python3"
  },
  "language_info": {
   "codemirror_mode": {
    "name": "ipython",
    "version": 3
   },
   "file_extension": ".py",
   "mimetype": "text/x-python",
   "name": "python",
   "nbconvert_exporter": "python",
   "pygments_lexer": "ipython3",
   "version": "3.9.5"
  },
  "orig_nbformat": 4,
  "vscode": {
   "interpreter": {
    "hash": "42de30614110e837353cca085f11e984cf1ec86f99248b6b9e10f423825b15a5"
   }
  }
 },
 "nbformat": 4,
 "nbformat_minor": 2
}
